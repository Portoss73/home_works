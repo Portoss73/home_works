{
 "cells": [
  {
   "cell_type": "markdown",
   "metadata": {},
   "source": [
    "###   Исправление.    Задание 1. Переведите содержимое файла purchase_log.txt в словарь purchases вида:\n",
    "{‘1840e0b9d4’: ‘Продукты’, …}"
   ]
  },
  {
   "cell_type": "code",
   "execution_count": 1,
   "metadata": {},
   "outputs": [],
   "source": [
    "import json"
   ]
  },
  {
   "cell_type": "code",
   "execution_count": 3,
   "metadata": {},
   "outputs": [
    {
     "name": "stdout",
     "output_type": "stream",
     "text": [
      "{'1840e0b9d4': 'Продукты'}\n"
     ]
    }
   ],
   "source": [
    "i = 0\n",
    "new_dict = {}\n",
    "\n",
    "with open('purchase_log.txt', 'r', encoding= 'utf-8') as f:\n",
    "    for line in f:\n",
    "        line = line.strip() \n",
    "      \n",
    "        dict_ = json.loads(line)\n",
    "\n",
    "        for j in dict_.items():\n",
    "          key = dict_['user_id']\n",
    "          value = dict_['category']\n",
    "          new_dict = {key : value}\n",
    "            \n",
    "        i = i + 1\n",
    "        if i > 1:\n",
    "           break\n",
    "\n",
    "print(new_dict)"
   ]
  },
  {
   "cell_type": "markdown",
   "metadata": {},
   "source": [
    "### Задание 2. Для каждого user_id в файле visit_log.csv определите третий столбец с категорией покупки (если покупка была, сам файл visit_log.csv изменять не надо). Запишите в файл funnel.csv визиты из файла visit_log.csv, в которых были покупки с указанием категории"
   ]
  },
  {
   "cell_type": "code",
   "execution_count": 6,
   "metadata": {},
   "outputs": [],
   "source": [
    "with open('visit_log.csv', 'r') as fd, open('funnel.csv', 'w') as fun:\n",
    "    for row in fd:\n",
    "        line_list = row.strip().split(',')\n",
    "        if line_list[0] in new_dict.keys():\n",
    "            line_list.append(new_dict[line_list[0]])\n",
    "            add_line = ','.join(line_list)\n",
    "        elif line_list[0] == 'user_id':\n",
    "            line_list.append('category')\n",
    "            add_line = ','.join(line_list)\n",
    "        else:\n",
    "            add_line = ','.join(line_list)\n",
    "        fun.write(add_line+'\\n')\n"
   ]
  }
 ],
 "metadata": {
  "kernelspec": {
   "display_name": "Python 3",
   "language": "python",
   "name": "python3"
  },
  "language_info": {
   "codemirror_mode": {
    "name": "ipython",
    "version": 3
   },
   "file_extension": ".py",
   "mimetype": "text/x-python",
   "name": "python",
   "nbconvert_exporter": "python",
   "pygments_lexer": "ipython3",
   "version": "3.8.5"
  }
 },
 "nbformat": 4,
 "nbformat_minor": 4
}
