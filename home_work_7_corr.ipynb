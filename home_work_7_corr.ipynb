{
 "cells": [
  {
   "cell_type": "markdown",
   "metadata": {},
   "source": [
    "### Задание 1"
   ]
  },
  {
   "cell_type": "code",
   "execution_count": 1,
   "metadata": {},
   "outputs": [],
   "source": [
    "from datetime import datetime"
   ]
  },
  {
   "cell_type": "code",
   "execution_count": 2,
   "metadata": {},
   "outputs": [
    {
     "data": {
      "text/plain": [
       "datetime.datetime(2002, 10, 2, 0, 0)"
      ]
     },
     "execution_count": 2,
     "metadata": {},
     "output_type": "execute_result"
    }
   ],
   "source": [
    "## The Moscow Times - Wednesday, October 2, 2002\n",
    "\n",
    "datetime.strptime('Wednesday, October 2, 2002', '%A, %B %d, %Y')"
   ]
  },
  {
   "cell_type": "code",
   "execution_count": 3,
   "metadata": {},
   "outputs": [
    {
     "data": {
      "text/plain": [
       "datetime.datetime(2013, 10, 11, 0, 0)"
      ]
     },
     "execution_count": 3,
     "metadata": {},
     "output_type": "execute_result"
    }
   ],
   "source": [
    "## The Guardian - Friday, 11.10.13\n",
    "\n",
    "datetime.strptime('Friday, 11.10.13', '%A, %d.%m.%y')"
   ]
  },
  {
   "cell_type": "code",
   "execution_count": 4,
   "metadata": {},
   "outputs": [
    {
     "data": {
      "text/plain": [
       "datetime.datetime(1977, 8, 18, 0, 0)"
      ]
     },
     "execution_count": 4,
     "metadata": {},
     "output_type": "execute_result"
    }
   ],
   "source": [
    "## Daily News - Thursday, 18 August 1977\n",
    "\n",
    "datetime.strptime('Thursday, 18 August 1977', '%A, %d %B %Y')"
   ]
  },
  {
   "cell_type": "markdown",
   "metadata": {},
   "source": [
    "### Задание 2"
   ]
  },
  {
   "cell_type": "code",
   "execution_count": 5,
   "metadata": {},
   "outputs": [],
   "source": [
    "stream = ['2018-04-02', '2018-02-29', '2018-19-02']"
   ]
  },
  {
   "cell_type": "code",
   "execution_count": 6,
   "metadata": {},
   "outputs": [
    {
     "data": {
      "text/plain": [
       "['2018-04-02', '2018-02-29', '2018-19-02']"
      ]
     },
     "execution_count": 6,
     "metadata": {},
     "output_type": "execute_result"
    }
   ],
   "source": [
    "stream"
   ]
  },
  {
   "cell_type": "code",
   "execution_count": 7,
   "metadata": {},
   "outputs": [
    {
     "data": {
      "text/plain": [
       "[True, False, False]"
      ]
     },
     "execution_count": 7,
     "metadata": {},
     "output_type": "execute_result"
    }
   ],
   "source": [
    "from datetime import datetime\n",
    "\n",
    "def correct(dates):\n",
    "    try:\n",
    "        datetime.strptime(dates, \"%Y-%m-%d\")\n",
    "        return True\n",
    "    except ValueError:\n",
    "            return False\n",
    "\n",
    "list(map(correct, stream))"
   ]
  },
  {
   "cell_type": "markdown",
   "metadata": {},
   "source": [
    "### Задание 3"
   ]
  },
  {
   "cell_type": "code",
   "execution_count": 11,
   "metadata": {},
   "outputs": [
    {
     "data": {
      "text/plain": [
       "['2020-08-15',\n",
       " '2020-08-16',\n",
       " '2020-08-17',\n",
       " '2020-08-18',\n",
       " '2020-08-19',\n",
       " '2020-08-20',\n",
       " '2020-08-21']"
      ]
     },
     "execution_count": 11,
     "metadata": {},
     "output_type": "execute_result"
    }
   ],
   "source": [
    "from datetime import datetime\n",
    "\n",
    "from datetime import timedelta\n",
    "\n",
    "start_date = '2020-08-15'\n",
    "end_date = '2020-08-21'\n",
    "\n",
    "def date_range():\n",
    "    \"\"\"проверка дат на корректность\"\"\"\n",
    "    \n",
    "d1 = datetime.strptime(start_date, '%Y-%m-%d')\n",
    "d2 = datetime.strptime(end_date, '%Y-%m-%d')\n",
    "\n",
    "delta = d2 - d1\n",
    "delta = delta.days\n",
    "type(delta)\n",
    "num = delta + 1\n",
    "\n",
    "[(d1 + timedelta(days = i)).strftime('%Y-%m-%d') for i in range(num) if d1 < d2]"
   ]
  },
  {
   "cell_type": "code",
   "execution_count": 12,
   "metadata": {},
   "outputs": [
    {
     "data": {
      "text/plain": [
       "[]"
      ]
     },
     "execution_count": 12,
     "metadata": {},
     "output_type": "execute_result"
    }
   ],
   "source": [
    "from datetime import datetime\n",
    "\n",
    "from datetime import timedelta\n",
    "\n",
    "start_date = '2020-08-22'\n",
    "end_date = '2020-08-21'\n",
    "\n",
    "def date_range():\n",
    "    \"\"\"проверка дат на корректность\"\"\"\n",
    "    \n",
    "d1 = datetime.strptime(start_date, '%Y-%m-%d')\n",
    "d2 = datetime.strptime(end_date, '%Y-%m-%d')\n",
    "\n",
    "delta = d2 - d1\n",
    "delta = delta.days\n",
    "type(delta)\n",
    "num = delta + 1\n",
    "\n",
    "[(d1 + timedelta(days = i)).strftime('%Y-%m-%d') for i in range(num) if d1 < d2]"
   ]
  }
 ],
 "metadata": {
  "kernelspec": {
   "display_name": "Python 3",
   "language": "python",
   "name": "python3"
  },
  "language_info": {
   "codemirror_mode": {
    "name": "ipython",
    "version": 3
   },
   "file_extension": ".py",
   "mimetype": "text/x-python",
   "name": "python",
   "nbconvert_exporter": "python",
   "pygments_lexer": "ipython3",
   "version": "3.8.5"
  }
 },
 "nbformat": 4,
 "nbformat_minor": 4
}
