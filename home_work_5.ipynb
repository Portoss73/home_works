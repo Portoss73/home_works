{
 "cells": [
  {
   "cell_type": "code",
   "execution_count": 1,
   "metadata": {},
   "outputs": [],
   "source": [
    "documents = [\n",
    "        {\"type\": \"passport\", \"number\": \"2207 876234\", \"name\": \"Василий Гупкин\"},\n",
    "        {\"type\": \"invoice\", \"number\": \"11-2\", \"name\": \"Геннадий Покемонов\"},\n",
    "        {\"type\": \"insurance\", \"number\": \"10006\", \"name\": \"Аристарх Павлов\"}\n",
    "      ]"
   ]
  },
  {
   "cell_type": "code",
   "execution_count": 2,
   "metadata": {},
   "outputs": [],
   "source": [
    "directories = {\n",
    "        '1': ['2207 876234', '11-2'],\n",
    "        '2': ['10006'],\n",
    "        '3': []\n",
    "      }"
   ]
  },
  {
   "cell_type": "markdown",
   "metadata": {},
   "source": [
    "### Пункт 1. Пользователь по команде \"p\" может узнать владельца документа по его номеру"
   ]
  },
  {
   "cell_type": "code",
   "execution_count": 3,
   "metadata": {},
   "outputs": [
    {
     "name": "stdout",
     "output_type": "stream",
     "text": [
      "Введите команду: p\n",
      "Введите номер документа: 10006\n",
      "Владелец документа:  Аристарх Павлов\n"
     ]
    }
   ],
   "source": [
    "documents = [\n",
    "        {\"type\": \"passport\", \"number\": \"2207 876234\", \"name\": \"Василий Гупкин\"},\n",
    "        {\"type\": \"invoice\", \"number\": \"11-2\", \"name\": \"Геннадий Покемонов\"},\n",
    "        {\"type\": \"insurance\", \"number\": \"10006\", \"name\": \"Аристарх Павлов\"}\n",
    "      ]\n",
    "\n",
    "command = input('Введите команду: ')\n",
    "if command == 'p':\n",
    "  doc = input('Введите номер документа: ')\n",
    "  for elem in documents:\n",
    "      if elem['number'] == doc:\n",
    "        print('Владелец документа: ', elem['name'])\n",
    "        break\n",
    "  else:\n",
    "    print('Документ не найден в базе')  "
   ]
  },
  {
   "cell_type": "code",
   "execution_count": 4,
   "metadata": {},
   "outputs": [
    {
     "name": "stdout",
     "output_type": "stream",
     "text": [
      "Введите команду: p\n",
      "Введите номер документа: 12345\n",
      "Документ не найден в базе\n"
     ]
    }
   ],
   "source": [
    "documents = [\n",
    "        {\"type\": \"passport\", \"number\": \"2207 876234\", \"name\": \"Василий Гупкин\"},\n",
    "        {\"type\": \"invoice\", \"number\": \"11-2\", \"name\": \"Геннадий Покемонов\"},\n",
    "        {\"type\": \"insurance\", \"number\": \"10006\", \"name\": \"Аристарх Павлов\"}\n",
    "      ]\n",
    "\n",
    "command = input('Введите команду: ')\n",
    "if command == 'p':\n",
    "  doc = input('Введите номер документа: ')\n",
    "  for elem in documents:\n",
    "      if elem['number'] == doc:\n",
    "        print('Владелец документа: ', elem['name'])\n",
    "        break\n",
    "  else:\n",
    "    print('Документ не найден в базе')  "
   ]
  },
  {
   "cell_type": "markdown",
   "metadata": {},
   "source": [
    "### Пункт 2. Пользователь по команде \"s\" может по номеру документа узнать на какой полке он хранится"
   ]
  },
  {
   "cell_type": "code",
   "execution_count": 5,
   "metadata": {},
   "outputs": [
    {
     "name": "stdout",
     "output_type": "stream",
     "text": [
      "Введите команду: s\n",
      "Введите номер документа: 10006\n",
      "Документ хранится на полке:  2\n"
     ]
    }
   ],
   "source": [
    "directories = {\n",
    "        '1': ['2207 876234', '11-2'],\n",
    "        '2': ['10006'],\n",
    "        '3': []\n",
    "      }\n",
    "\n",
    "command = input('Введите команду: ')\n",
    "if command == 's':\n",
    "  def d_shelf(directories):\n",
    "    shelf = input('Введите номер документа: ')\n",
    "    for shelves, numbers in directories.items():\n",
    "        if shelf in numbers: \n",
    "          print('Документ хранится на полке: ', shelves)\n",
    "          break\n",
    "\n",
    "    else: \n",
    "          print('Документ не найден в базе')\n",
    "\n",
    "d_shelf(directories)"
   ]
  },
  {
   "cell_type": "code",
   "execution_count": 6,
   "metadata": {},
   "outputs": [
    {
     "name": "stdout",
     "output_type": "stream",
     "text": [
      "Введите команду: s\n",
      "Введите номер документа: 12345\n",
      "Документ не найден в базе\n"
     ]
    }
   ],
   "source": [
    "directories = {\n",
    "        '1': ['2207 876234', '11-2'],\n",
    "        '2': ['10006'],\n",
    "        '3': []\n",
    "      }\n",
    "\n",
    "command = input('Введите команду: ')\n",
    "if command == 's':\n",
    "  def d_shelf(directories):\n",
    "    shelf = input('Введите номер документа: ')\n",
    "    for shelves, numbers in directories.items():\n",
    "        if shelf in numbers: \n",
    "          print('Документ хранится на полке: ', shelves)\n",
    "          break\n",
    "\n",
    "    else: \n",
    "          print('Документ не найден в базе')\n",
    "\n",
    "d_shelf(directories)"
   ]
  },
  {
   "cell_type": "markdown",
   "metadata": {},
   "source": [
    "### Пункт 3. Пользователь по команде \"l\" может увидеть полную информацию по всем документам"
   ]
  },
  {
   "cell_type": "code",
   "execution_count": 7,
   "metadata": {},
   "outputs": [
    {
     "name": "stdout",
     "output_type": "stream",
     "text": [
      "Введите команду: l\n",
      "№:  2207 876234 , тип:  passport , владелец:  Василий Гупкин , полка хранения:  1\n",
      "№:  11-2 , тип:  invoice , владелец:  Геннадий Покемонов , полка хранения:  1\n",
      "№:  10006 , тип:  insurance , владелец:  Аристарх Павлов , полка хранения:  2\n"
     ]
    }
   ],
   "source": [
    "documents = [\n",
    "        {\"type\": \"passport\", \"number\": \"2207 876234\", \"name\": \"Василий Гупкин\"},\n",
    "        {\"type\": \"invoice\", \"number\": \"11-2\", \"name\": \"Геннадий Покемонов\"},\n",
    "        {\"type\": \"insurance\", \"number\": \"10006\", \"name\": \"Аристарх Павлов\"}\n",
    "      ]\n",
    "\n",
    "directories = {\n",
    "        '1': ['2207 876234', '11-2'],\n",
    "        '2': ['10006'],\n",
    "        '3': []\n",
    "      }      \n",
    "\n",
    "def get_directory(number):\n",
    "    return list(filter(lambda e: number in e[1], directories.items()))[0]\n",
    "\n",
    "command = input('Введите команду: ')\n",
    "if command == 'l':\n",
    "  for docs in documents:\n",
    "    print('№: ', docs['number'], ',', 'тип: ', docs['type'], ',', 'владелец: ', docs['name'], ',', 'полка хранения: ', f\"{get_directory(docs['number'])[0]}\")"
   ]
  },
  {
   "cell_type": "markdown",
   "metadata": {},
   "source": [
    "### Пункт 4. Пользователь по команде \"ads\" может добавить новую полку"
   ]
  },
  {
   "cell_type": "code",
   "execution_count": 8,
   "metadata": {},
   "outputs": [
    {
     "name": "stdout",
     "output_type": "stream",
     "text": [
      "Введите команду: ads\n",
      "Введите номер полки: 10\n",
      "Полка добавлена. Текущий перечень полок: 1,2,3,10\n"
     ]
    }
   ],
   "source": [
    "directories = {\n",
    "        '1': ['2207 876234', '11-2'],\n",
    "        '2': ['10006'],\n",
    "        '3': []\n",
    "      }\n",
    "\n",
    "command = input('Введите команду: ')\n",
    "if command == 'ads':\n",
    "  d_shelf = input('Введите номер полки: ')\n",
    "\n",
    "def add_shelf(number):\n",
    "    if d_shelf in directories:\n",
    "        return 'Такая полка уже существует. Текущий перечень полок: ' + ','.join(directories.keys())\n",
    "        \n",
    "    directories[d_shelf] = []\n",
    "    print('Полка добавлена. Текущий перечень полок: ' + ','.join(directories.keys()))\n",
    "  \n",
    "add_shelf(directories)"
   ]
  },
  {
   "cell_type": "code",
   "execution_count": 9,
   "metadata": {},
   "outputs": [
    {
     "name": "stdout",
     "output_type": "stream",
     "text": [
      "Введите команду: ads\n",
      "Введите номер полки: 1\n"
     ]
    },
    {
     "data": {
      "text/plain": [
       "'Такая полка уже существует. Текущий перечень полок: 1,2,3'"
      ]
     },
     "execution_count": 9,
     "metadata": {},
     "output_type": "execute_result"
    }
   ],
   "source": [
    "directories = {\n",
    "        '1': ['2207 876234', '11-2'],\n",
    "        '2': ['10006'],\n",
    "        '3': []\n",
    "      }\n",
    "\n",
    "command = input('Введите команду: ')\n",
    "if command == 'ads':\n",
    "  d_shelf = input('Введите номер полки: ')\n",
    "\n",
    "def add_shelf(number):\n",
    "    if d_shelf in directories:\n",
    "        return 'Такая полка уже существует. Текущий перечень полок: ' + ','.join(directories.keys())\n",
    "        \n",
    "    directories[d_shelf] = []\n",
    "    print('Полка добавлена. Текущий перечень полок: ' + ','.join(directories.keys()))\n",
    "  \n",
    "add_shelf(directories)"
   ]
  },
  {
   "cell_type": "markdown",
   "metadata": {},
   "source": [
    "### Пункт 5. Пользователь по команде \"ds\" может удалить существующую полку из данных (только если она пустая)"
   ]
  },
  {
   "cell_type": "code",
   "execution_count": 10,
   "metadata": {},
   "outputs": [
    {
     "name": "stdout",
     "output_type": "stream",
     "text": [
      "Введите команду: ds\n",
      "Введите номер полки: 3\n",
      "Полка удалена. Текущий перечень полок: 1, 2\n"
     ]
    }
   ],
   "source": [
    "directories = {\n",
    "        '1': ['2207 876234', '11-2'],\n",
    "        '2': ['10006'],\n",
    "        '3': []\n",
    "      }\n",
    "\n",
    "command = input('Введите команду: ')\n",
    "if command == 'ds':\n",
    "   del_shelf = input('Введите номер полки: ')\n",
    "\n",
    "def remote_shelf(number):\n",
    "    if del_shelf in directories:\n",
    "        if len(directories[del_shelf]) > 0:\n",
    "            return 'На полке есть документы, удалите их перед удалением полки. Текущий перечень полок: ' + ', '.join(directories.keys())\n",
    "        del directories[del_shelf]\n",
    "        print('Полка удалена. Текущий перечень полок: ' + ', '.join(directories.keys()))\n",
    "    else:\n",
    "      print ('Такой полки не существует. Текущий перечень полок: ' + ', '.join(directories.keys()))\n",
    "\n",
    "remote_shelf(directories)"
   ]
  },
  {
   "cell_type": "code",
   "execution_count": 11,
   "metadata": {},
   "outputs": [
    {
     "name": "stdout",
     "output_type": "stream",
     "text": [
      "Введите команду: ds\n",
      "Введите номер полки: 1\n"
     ]
    },
    {
     "data": {
      "text/plain": [
       "'На полке есть документы, удалите их перед удалением полки. Текущий перечень полок: 1, 2, 3'"
      ]
     },
     "execution_count": 11,
     "metadata": {},
     "output_type": "execute_result"
    }
   ],
   "source": [
    "directories = {\n",
    "        '1': ['2207 876234', '11-2'],\n",
    "        '2': ['10006'],\n",
    "        '3': []\n",
    "      }\n",
    "\n",
    "command = input('Введите команду: ')\n",
    "if command == 'ds':\n",
    "   del_shelf = input('Введите номер полки: ')\n",
    "\n",
    "def remote_shelf(number):\n",
    "    if del_shelf in directories:\n",
    "        if len(directories[del_shelf]) > 0:\n",
    "            return 'На полке есть документы, удалите их перед удалением полки. Текущий перечень полок: ' + ', '.join(directories.keys())\n",
    "        del directories[del_shelf]\n",
    "        print('Полка удалена. Текущий перечень полок: ' + ', '.join(directories.keys()))\n",
    "    else:\n",
    "      print ('Такой полки не существует. Текущий перечень полок: ' + ', '.join(directories.keys()))\n",
    "\n",
    "remote_shelf(directories)"
   ]
  },
  {
   "cell_type": "code",
   "execution_count": 12,
   "metadata": {},
   "outputs": [
    {
     "name": "stdout",
     "output_type": "stream",
     "text": [
      "Введите команду: ds\n",
      "Введите номер полки: 4\n",
      "Такой полки не существует. Текущий перечень полок: 1, 2, 3\n"
     ]
    }
   ],
   "source": [
    "directories = {\n",
    "        '1': ['2207 876234', '11-2'],\n",
    "        '2': ['10006'],\n",
    "        '3': []\n",
    "      }\n",
    "\n",
    "command = input('Введите команду: ')\n",
    "if command == 'ds':\n",
    "   del_shelf = input('Введите номер полки: ')\n",
    "\n",
    "def remote_shelf(number):\n",
    "    if del_shelf in directories:\n",
    "        if len(directories[del_shelf]) > 0:\n",
    "            return 'На полке есть документы, удалите их перед удалением полки. Текущий перечень полок: ' + ', '.join(directories.keys())\n",
    "        del directories[del_shelf]\n",
    "        print('Полка удалена. Текущий перечень полок: ' + ', '.join(directories.keys()))\n",
    "    else:\n",
    "      print ('Такой полки не существует. Текущий перечень полок: ' + ', '.join(directories.keys()))\n",
    "\n",
    "remote_shelf(directories)"
   ]
  }
 ],
 "metadata": {
  "kernelspec": {
   "display_name": "Python 3",
   "language": "python",
   "name": "python3"
  },
  "language_info": {
   "codemirror_mode": {
    "name": "ipython",
    "version": 3
   },
   "file_extension": ".py",
   "mimetype": "text/x-python",
   "name": "python",
   "nbconvert_exporter": "python",
   "pygments_lexer": "ipython3",
   "version": "3.8.5"
  }
 },
 "nbformat": 4,
 "nbformat_minor": 4
}
