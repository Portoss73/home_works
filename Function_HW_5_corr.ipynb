{
  "nbformat": 4,
  "nbformat_minor": 0,
  "metadata": {
    "colab": {
      "name": "Function_HW_5_corr.ipynb",
      "provenance": [],
      "collapsed_sections": []
    },
    "kernelspec": {
      "name": "python3",
      "display_name": "Python 3"
    },
    "language_info": {
      "name": "python"
    }
  },
  "cells": [
    {
      "cell_type": "markdown",
      "metadata": {
        "id": "cOjfdupTfvBz"
      },
      "source": [
        "### Коррекция ДЗ 5"
      ]
    },
    {
      "cell_type": "code",
      "metadata": {
        "id": "Mud3Zjuqf0TM"
      },
      "source": [
        "documents = [\n",
        "        {\"type\": \"passport\", \"number\": \"2207 876234\", \"name\": \"Василий Гупкин\"},\n",
        "        {\"type\": \"invoice\", \"number\": \"11-2\", \"name\": \"Геннадий Покемонов\"},\n",
        "        {\"type\": \"insurance\", \"number\": \"10006\", \"name\": \"Аристарх Павлов\"}\n",
        "      ]"
      ],
      "execution_count": 175,
      "outputs": []
    },
    {
      "cell_type": "code",
      "metadata": {
        "id": "Iajlv5ZAf7kY"
      },
      "source": [
        "directories = {\n",
        "        '1': ['2207 876234', '11-2'],\n",
        "        '2': ['10006'],\n",
        "        '3': []\n",
        "      }"
      ],
      "execution_count": 176,
      "outputs": []
    },
    {
      "cell_type": "code",
      "metadata": {
        "id": "25ApbHgYf_5w"
      },
      "source": [
        "def people(numbers):\n",
        "  for elem in documents:\n",
        "      if elem['number'] == numbers:\n",
        "        print('Владелец документа: ', elem['name'])\n",
        "        break\n",
        "  else:\n",
        "    print('Документ не найден в базе')"
      ],
      "execution_count": 177,
      "outputs": []
    },
    {
      "cell_type": "code",
      "metadata": {
        "id": "fbStvFVNgD1v"
      },
      "source": [
        "def shelf(numbers):\n",
        "  break_marker = False\n",
        "  for shelf_directories in directories.items():\n",
        "    for doc_numbers in shelf_directories[1]:\n",
        "      if doc_numbers == numbers:\n",
        "        print('Документ хранится на полке: ', shelf_directories[0])\n",
        "        break_marker = True\n",
        "        break\n",
        "    if break_marker == True:\n",
        "      break\n",
        "  else:\n",
        "    print('Документ не найден в базе')"
      ],
      "execution_count": 178,
      "outputs": []
    },
    {
      "cell_type": "code",
      "metadata": {
        "id": "g_drm0GliLI-"
      },
      "source": [
        "def get_directory(number):\n",
        "  return list(filter(lambda e: number in e[1], directories.items()))[0]"
      ],
      "execution_count": 179,
      "outputs": []
    },
    {
      "cell_type": "code",
      "metadata": {
        "id": "2Em0SNJ6ilLN"
      },
      "source": [
        "def add_shelf(direct_number):\n",
        "    if int(direct_number) == 1 or int(direct_number) == 2 or int(direct_number) == 3:\n",
        "      print('Такая полка уже существует. Текущий перечень полок: ' + ', '.join(directories.keys()))\n",
        "\n",
        "      directories[direct_number].append(direct_number)\n",
        "\n",
        "    else:  \n",
        "      directories[direct_number] = []\n",
        "      print('Полка добавлена. Текущий перечень полок: ' + ', '.join(directories.keys()))"
      ],
      "execution_count": 180,
      "outputs": []
    },
    {
      "cell_type": "code",
      "metadata": {
        "id": "X38MZwWSisr3"
      },
      "source": [
        "def remote_shelf(number):\n",
        "    if del_shelf in directories:\n",
        "        if len(directories[del_shelf]) > 0:\n",
        "            return 'На полке есть документы, удалите их перед удалением полки. Текущий перечень полок: ' + ', '.join(directories.keys())\n",
        "        del directories[del_shelf]\n",
        "        print('Полка удалена. Текущий перечень полок: ' + ', '.join(directories.keys()))\n",
        "    else:\n",
        "      print ('Такой полки не существует. Текущий перечень полок: ' + ', '.join(directories.keys()))"
      ],
      "execution_count": 181,
      "outputs": []
    },
    {
      "cell_type": "code",
      "metadata": {
        "colab": {
          "base_uri": "https://localhost:8080/"
        },
        "id": "ARod34H4i_3j",
        "outputId": "6408c3a4-25e4-47ea-bb3a-854da569de3b"
      },
      "source": [
        "while True:\n",
        "  command = input('\\nВведите команду: ')\n",
        "  if command == 'p':\n",
        "    people(input('\\nВведите номер документа:'))\n",
        "  elif command == 'l':\n",
        "    for docs in documents:\n",
        "      print('№: ', docs['number'], ',', 'тип: ', docs['type'], ',', 'владелец: ', docs['name'], ',', 'полка хранения: ', f\"{get_directory(docs['number'])[0]}\")\n",
        "  elif command == 's':\n",
        "    shelf(input('\\nВведите номер документа:'))\n",
        "  elif command == 'ads':\n",
        "    add_shelf(input('\\nВведите номер полки: '))\n",
        "  elif command == 'ds':\n",
        "    del_shelf = (input('\\nВведите номер полки: '))\n",
        "    remote_shelf(del_shelf)\n",
        "  elif command == 'q':\n",
        "    break\n",
        "  else:\n",
        "    break"
      ],
      "execution_count": 182,
      "outputs": [
        {
          "output_type": "stream",
          "text": [
            "\n",
            "Введите команду: l\n",
            "№:  2207 876234 , тип:  passport , владелец:  Василий Гупкин , полка хранения:  1\n",
            "№:  11-2 , тип:  invoice , владелец:  Геннадий Покемонов , полка хранения:  1\n",
            "№:  10006 , тип:  insurance , владелец:  Аристарх Павлов , полка хранения:  2\n",
            "\n",
            "Введите команду: p\n",
            "\n",
            "Введите номер документа:10006\n",
            "Владелец документа:  Аристарх Павлов\n",
            "\n",
            "Введите команду: p\n",
            "\n",
            "Введите номер документа:12345\n",
            "Документ не найден в базе\n",
            "\n",
            "Введите команду: s\n",
            "\n",
            "Введите номер документа:10006\n",
            "Документ хранится на полке:  2\n",
            "\n",
            "Введите команду: s\n",
            "\n",
            "Введите номер документа:12345\n",
            "Документ не найден в базе\n",
            "\n",
            "Введите команду: ads\n",
            "\n",
            "Введите номер полки: 10\n",
            "Полка добавлена. Текущий перечень полок: 1, 2, 3, 10\n",
            "\n",
            "Введите команду: ads\n",
            "\n",
            "Введите номер полки: 1\n",
            "Такая полка уже существует. Текущий перечень полок: 1, 2, 3, 10\n",
            "\n",
            "Введите команду: ds\n",
            "\n",
            "Введите номер полки: 4\n",
            "Такой полки не существует. Текущий перечень полок: 1, 2, 3, 10\n",
            "\n",
            "Введите команду: ds\n",
            "\n",
            "Введите номер полки: 3\n",
            "Полка удалена. Текущий перечень полок: 1, 2, 10\n",
            "\n",
            "Введите команду: q\n"
          ],
          "name": "stdout"
        }
      ]
    }
  ]
}