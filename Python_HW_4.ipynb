{
  "nbformat": 4,
  "nbformat_minor": 0,
  "metadata": {
    "colab": {
      "name": "Python_HW_4.ipynb",
      "provenance": [],
      "collapsed_sections": []
    },
    "kernelspec": {
      "name": "python3",
      "display_name": "Python 3"
    }
  },
  "cells": [
    {
      "cell_type": "markdown",
      "metadata": {
        "id": "n8tqU7rgfbql"
      },
      "source": [
        "### Задание 1"
      ]
    },
    {
      "cell_type": "code",
      "metadata": {
        "colab": {
          "base_uri": "https://localhost:8080/"
        },
        "id": "p9tlfM-B0EQc",
        "outputId": "1a3b9d12-9359-4c6d-866a-9e1197074748"
      },
      "source": [
        "ids = {'user1': [213, 213, 213, 15, 213],\r\n",
        "       'user2': [54, 54, 119, 119, 119],\r\n",
        "       'user3': [213, 98, 98, 35]}\r\n",
        "\r\n",
        "set_1 = set(ids['user1'])\r\n",
        "set_2 = set(ids['user2'])\r\n",
        "set_3 = set(ids['user3'])\r\n",
        "\r\n",
        "print(set_1 | set_2 | set_3)"
      ],
      "execution_count": 6,
      "outputs": [
        {
          "output_type": "stream",
          "text": [
            "{98, 35, 213, 54, 119, 15}\n"
          ],
          "name": "stdout"
        }
      ]
    },
    {
      "cell_type": "markdown",
      "metadata": {
        "id": "Y5YaKGkJyJk7"
      },
      "source": [
        "### Задание 2"
      ]
    },
    {
      "cell_type": "code",
      "metadata": {
        "colab": {
          "base_uri": "https://localhost:8080/"
        },
        "id": "aXK0ZxGFazzB",
        "outputId": "53c81a6a-3d74-4f1e-d90d-ca8e18e7c581"
      },
      "source": [
        "queries = [\r\n",
        "'смотреть сериалы онлайн',\r\n",
        "'новости спорта',\r\n",
        "'афиша кино',\r\n",
        "'курс доллара',\r\n",
        "'сериалы этим летом',\r\n",
        "'курс по питону',\r\n",
        "'сериалы про спорт',\r\n",
        "]\r\n",
        "\r\n",
        "word_1 = 0\r\n",
        "word_2 = 0\r\n",
        "\r\n",
        "for words_qnty in queries:\r\n",
        "    if len(words_qnty.split()) == 2:\r\n",
        "        word_1 += 1\r\n",
        "    else:\r\n",
        "        word_2 += 1\r\n",
        "\r\n",
        "total_sum = word_1 + word_2 \r\n",
        "     \r\n",
        "print('Поисковых запросов, содержащих 2 слов(а): ', round((word_1 / total_sum)*100, 2), '%')\r\n",
        "print('Поисковых запросов, содержащих 3 слов(а): ', round((word_2 / total_sum)*100, 2), '%')"
      ],
      "execution_count": 7,
      "outputs": [
        {
          "output_type": "stream",
          "text": [
            "Поисковых запросов, содержащих 2 слов(а):  42.86 %\n",
            "Поисковых запросов, содержащих 3 слов(а):  57.14 %\n"
          ],
          "name": "stdout"
        }
      ]
    },
    {
      "cell_type": "markdown",
      "metadata": {
        "id": "b50MYu0QAOE6"
      },
      "source": [
        "### Задание 3"
      ]
    },
    {
      "cell_type": "code",
      "metadata": {
        "colab": {
          "base_uri": "https://localhost:8080/"
        },
        "id": "wOG6RkLuPpWw",
        "outputId": "52b825f4-ad40-4404-a2ab-96d519e376c0"
      },
      "source": [
        "results = {\r\n",
        "'vk': {'revenue': 103, 'cost': 98},\r\n",
        "'yandex': {'revenue': 179, 'cost': 153},\r\n",
        "'facebook': {'revenue': 103, 'cost': 110},\r\n",
        "'adwords': {'revenue': 35, 'cost': 34},\r\n",
        "'twitter': {'revenue': 11, 'cost': 24},\r\n",
        "}\r\n",
        "\r\n",
        "for key, value in results.items():\r\n",
        "        value['ROI'] = round(((value['revenue'] / value['cost']) - 1)*100 , 2)\r\n",
        "        \r\n",
        "results"
      ],
      "execution_count": 8,
      "outputs": [
        {
          "output_type": "execute_result",
          "data": {
            "text/plain": [
              "{'adwords': {'ROI': 2.94, 'cost': 34, 'revenue': 35},\n",
              " 'facebook': {'ROI': -6.36, 'cost': 110, 'revenue': 103},\n",
              " 'twitter': {'ROI': -54.17, 'cost': 24, 'revenue': 11},\n",
              " 'vk': {'ROI': 5.1, 'cost': 98, 'revenue': 103},\n",
              " 'yandex': {'ROI': 16.99, 'cost': 153, 'revenue': 179}}"
            ]
          },
          "metadata": {
            "tags": []
          },
          "execution_count": 8
        }
      ]
    },
    {
      "cell_type": "markdown",
      "metadata": {
        "id": "1_xFjIHMbzoM"
      },
      "source": [
        "### Задание 4"
      ]
    },
    {
      "cell_type": "code",
      "metadata": {
        "colab": {
          "base_uri": "https://localhost:8080/"
        },
        "id": "rpj9mkEOgZBH",
        "outputId": "3f6a1fba-f8b8-42c4-b4cf-454b3770e088"
      },
      "source": [
        "stats = {'facebook': 55, 'yandex': 115, 'vk': 120, 'google': 99, 'email': 42, 'ok': 98}\r\n",
        "\r\n",
        "max_val = max(stats.items(), key=lambda x: x[1])\r\n",
        "\r\n",
        "print('Максимальный объем продаж на рекламном канале: ', max_val[0])"
      ],
      "execution_count": 9,
      "outputs": [
        {
          "output_type": "stream",
          "text": [
            "Максимальный объем продаж на рекламном канале:  vk\n"
          ],
          "name": "stdout"
        }
      ]
    }
  ]
}