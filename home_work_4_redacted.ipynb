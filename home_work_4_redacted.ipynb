{
  "nbformat": 4,
  "nbformat_minor": 0,
  "metadata": {
    "colab": {
      "name": "home_work_4_redacted.ipynb",
      "provenance": [],
      "collapsed_sections": []
    },
    "kernelspec": {
      "name": "python3",
      "display_name": "Python 3"
    }
  },
  "cells": [
    {
      "cell_type": "markdown",
      "metadata": {
        "id": "n8tqU7rgfbql"
      },
      "source": [
        "### Задание 1"
      ]
    },
    {
      "cell_type": "code",
      "metadata": {
        "colab": {
          "base_uri": "https://localhost:8080/"
        },
        "id": "OIeYc4IBdG13",
        "outputId": "31c61a1f-3d47-48b3-96e9-e7dbfde95f20"
      },
      "source": [
        "ids = {'user1': [213, 213, 213, 15, 213],\r\n",
        "       'user2': [54, 54, 119, 119, 119],\r\n",
        "       'user3': [213, 98, 98, 35]}\r\n",
        "\r\n",
        "all_users = ids.values()\r\n",
        "\r\n",
        "new_ids = []\r\n",
        "for i in all_users:\r\n",
        "    for j in i:\r\n",
        "        new_ids.append(j)\r\n",
        "\r\n",
        "print(set(new_ids))"
      ],
      "execution_count": 1,
      "outputs": [
        {
          "output_type": "stream",
          "text": [
            "{98, 35, 15, 213, 54, 119}\n"
          ],
          "name": "stdout"
        }
      ]
    },
    {
      "cell_type": "markdown",
      "metadata": {
        "id": "Y5YaKGkJyJk7"
      },
      "source": [
        "### Задание 2"
      ]
    },
    {
      "cell_type": "code",
      "metadata": {
        "colab": {
          "base_uri": "https://localhost:8080/"
        },
        "id": "PDBuP1NRgC9Q",
        "outputId": "1f2e21d6-7293-4658-cad1-afce56d6190e"
      },
      "source": [
        "queries = [\r\n",
        "'смотреть сериалы онлайн',\r\n",
        "'новости спорта',\r\n",
        "'афиша кино',\r\n",
        "'курс доллара',\r\n",
        "'сериалы этим летом',\r\n",
        "'курс по питону',\r\n",
        "'сериалы про спорт'\r\n",
        "]\r\n",
        "\r\n",
        "my_dict = {}\r\n",
        "\r\n",
        "for query in queries:\r\n",
        "    words = query.split()\r\n",
        "\r\n",
        "    if len(words) in my_dict.keys():\r\n",
        "        my_dict[len(words)] += 1\r\n",
        "    else:\r\n",
        "        my_dict.update({\r\n",
        "            len(words): 1\r\n",
        "        })\r\n",
        "\r\n",
        "for key, value in my_dict.items():\r\n",
        "    percentage = round((value / len(queries)) * 100, 2)\r\n",
        "    print(f'Поисковых запросов, содержащих {key} слов(а): {percentage}%')"
      ],
      "execution_count": 2,
      "outputs": [
        {
          "output_type": "stream",
          "text": [
            "Поисковых запросов, содержащих 3 слов(а): 57.14%\n",
            "Поисковых запросов, содержащих 2 слов(а): 42.86%\n"
          ],
          "name": "stdout"
        }
      ]
    },
    {
      "cell_type": "markdown",
      "metadata": {
        "id": "b50MYu0QAOE6"
      },
      "source": [
        "### Задание 3"
      ]
    },
    {
      "cell_type": "code",
      "metadata": {
        "colab": {
          "base_uri": "https://localhost:8080/"
        },
        "id": "wOG6RkLuPpWw",
        "outputId": "683ec5e0-1793-434d-9fa4-205306eaed58"
      },
      "source": [
        "results = {\r\n",
        "'vk': {'revenue': 103, 'cost': 98},\r\n",
        "'yandex': {'revenue': 179, 'cost': 153},\r\n",
        "'facebook': {'revenue': 103, 'cost': 110},\r\n",
        "'adwords': {'revenue': 35, 'cost': 34},\r\n",
        "'twitter': {'revenue': 11, 'cost': 24},\r\n",
        "}\r\n",
        "\r\n",
        "for key, value in results.items():\r\n",
        "        value['ROI'] = round(((value['revenue'] / value['cost']) - 1)*100 , 2)\r\n",
        "        \r\n",
        "results"
      ],
      "execution_count": null,
      "outputs": [
        {
          "output_type": "execute_result",
          "data": {
            "text/plain": [
              "{'adwords': {'ROI': 2.94, 'cost': 34, 'revenue': 35},\n",
              " 'facebook': {'ROI': -6.36, 'cost': 110, 'revenue': 103},\n",
              " 'twitter': {'ROI': -54.17, 'cost': 24, 'revenue': 11},\n",
              " 'vk': {'ROI': 5.1, 'cost': 98, 'revenue': 103},\n",
              " 'yandex': {'ROI': 16.99, 'cost': 153, 'revenue': 179}}"
            ]
          },
          "metadata": {
            "tags": []
          },
          "execution_count": 4
        }
      ]
    },
    {
      "cell_type": "markdown",
      "metadata": {
        "id": "1_xFjIHMbzoM"
      },
      "source": [
        "### Задание 4"
      ]
    },
    {
      "cell_type": "code",
      "metadata": {
        "colab": {
          "base_uri": "https://localhost:8080/"
        },
        "id": "rpj9mkEOgZBH",
        "outputId": "2ea43409-3200-4b9f-da0c-b4ab2b14a9fa"
      },
      "source": [
        "stats = {'facebook': 55, 'yandex': 115, 'vk': 120, 'google': 99, 'email': 42, 'ok': 98}\r\n",
        "\r\n",
        "max_val = max(stats.items(), key=lambda x: x[1])\r\n",
        "\r\n",
        "print('Максимальный объем продаж на рекламном канале: ', max_val[0])"
      ],
      "execution_count": null,
      "outputs": [
        {
          "output_type": "stream",
          "text": [
            "Максимальный объем продаж на рекламном канале:  vk\n"
          ],
          "name": "stdout"
        }
      ]
    }
  ]
}